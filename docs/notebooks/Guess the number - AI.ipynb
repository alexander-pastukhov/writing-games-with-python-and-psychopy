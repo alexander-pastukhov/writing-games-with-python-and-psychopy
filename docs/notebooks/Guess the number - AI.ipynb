{
 "cells": [
  {
   "cell_type": "markdown",
   "metadata": {},
   "source": [
    "# Guess the Number: AI takes a turn"
   ]
  },
  {
   "cell_type": "markdown",
   "metadata": {},
   "source": [
    "### Exercise 01. Defining functions\n",
    "In the example below, which function call will work and which will throw an error? Do not run the code, think and, then, write you answer here.\n",
    "\n",
    "**Answer:**"
   ]
  },
  {
   "cell_type": "code",
   "execution_count": null,
   "metadata": {},
   "outputs": [],
   "source": [
    "def do_something():\n",
    "    \"\"\"\n",
    "    Does something!\n",
    "    \"\"\"\n",
    "    print(\"Doing it!\")\n",
    "    \n",
    "do_something()\n",
    "do_something_else()\n",
    "\n",
    "def do_something_else():\n",
    "    \"\"\"\n",
    "    Does something else!\n",
    "    \"\"\"\n",
    "    print(\"And now to something completely different...\")   "
   ]
  },
  {
   "cell_type": "markdown",
   "metadata": {},
   "source": [
    "### Exercise 02. Redefining functions\n",
    "What will be printed in the example below?\n",
    "\n",
    "**Answer:**"
   ]
  },
  {
   "cell_type": "code",
   "execution_count": null,
   "metadata": {},
   "outputs": [],
   "source": [
    "def print_something():\n",
    "    \"\"\"\n",
    "    Prints \"something\"\n",
    "    \"\"\"\n",
    "    print(\"something\")\n",
    "    \n",
    "def print_something():\n",
    "    \"\"\"\n",
    "    Prints \"I refuse to print\"\n",
    "    \"\"\"\n",
    "    print(\"I refuse to print\")\n",
    "    \n",
    "print_something()"
   ]
  },
  {
   "cell_type": "markdown",
   "metadata": {},
   "source": [
    "### Exercise 03. Arguments\n",
    "Which function call will produce correct (meaningful) results and which will throw an error?\n",
    "**Answers:**\n",
    "1. \n",
    "2. \n",
    "3. "
   ]
  },
  {
   "cell_type": "code",
   "execution_count": null,
   "metadata": {},
   "outputs": [],
   "source": [
    "def print_age(birth_year, current_year):\n",
    "    \"\"\"\n",
    "    Computes age given birth year and current year.\n",
    "\n",
    "    Parameters\n",
    "    ----------\n",
    "    birth_year : int\n",
    "    current_year : int\n",
    "    \"\"\"\n",
    "    print(current_year - birth_year)\n",
    "\n",
    "i_was_born = 1976\n",
    "today_is = 2020\n",
    "\n",
    "#1\n",
    "print_age(i_was_born, today_is)\n",
    "\n",
    "#2\n",
    "print_age(today_is, i_was_born)\n",
    "\n",
    "#3\n",
    "print_age(i_was_born)"
   ]
  },
  {
   "cell_type": "markdown",
   "metadata": {},
   "source": [
    "### Exercise 04, returning a value\n",
    "For which function call the value will be stored or used, and for which call it will be unused and, hence, lost forever (probably, will vanish into the nearest black hole)?\n",
    "\n",
    "**Answers:**\n",
    "1. \n",
    "2. \n",
    "3. "
   ]
  },
  {
   "cell_type": "code",
   "execution_count": null,
   "metadata": {},
   "outputs": [],
   "source": [
    "def compute_age(birth_year, current_year):\n",
    "    \"\"\"\n",
    "    Computes age given birth year and current year.\n",
    "\n",
    "    Parameters\n",
    "    ----------\n",
    "    birth_year : int\n",
    "    current_year : int\n",
    "    \n",
    "    Returns\n",
    "    ----------\n",
    "    int : age\n",
    "    \"\"\"\n",
    "    return current_year - birth_year\n",
    "\n",
    "# 1.\n",
    "my_age = compute_age(1976, 2020)\n",
    "print(my_age)\n",
    "\n",
    "# 2.\n",
    "compute_age(1976, 2020)\n",
    "\n",
    "# 3.\n",
    "if compute_age(1976, 2020) > 40:\n",
    "    print(\"You are definitely over 40!\")\n",
    "else:\n",
    "    print(\"When I was your age...\")"
   ]
  },
  {
   "cell_type": "markdown",
   "metadata": {},
   "source": [
    "### Exercise 05,visibility scopes.\n",
    "What will be printed and why? \n",
    "\n",
    "**Answer #1:**"
   ]
  },
  {
   "cell_type": "code",
   "execution_count": null,
   "metadata": {},
   "outputs": [],
   "source": [
    "def do_something():\n",
    "    \"\"\"\n",
    "    Does something!\n",
    "    \"\"\"\n",
    "    x = 5\n",
    "    print(x)\n",
    "    \n",
    "    \n",
    "x = 1\n",
    "do_something()"
   ]
  },
  {
   "cell_type": "markdown",
   "metadata": {},
   "source": [
    "**Answer #2:**"
   ]
  },
  {
   "cell_type": "code",
   "execution_count": null,
   "metadata": {},
   "outputs": [],
   "source": [
    "def do_something():\n",
    "    \"\"\"\n",
    "    Does something!\n",
    "    \"\"\"\n",
    "    x = 5\n",
    "    \n",
    "x = 1\n",
    "do_something()\n",
    "print(x)"
   ]
  },
  {
   "cell_type": "markdown",
   "metadata": {},
   "source": [
    "**Answer #3:**"
   ]
  },
  {
   "cell_type": "code",
   "execution_count": null,
   "metadata": {},
   "outputs": [],
   "source": [
    "def do_something(y):\n",
    "    \"\"\"\n",
    "    Does something!\n",
    "    \"\"\"\n",
    "    x = 5\n",
    "    print(y)\n",
    "    \n",
    "x = 1\n",
    "do_something(x)"
   ]
  },
  {
   "cell_type": "markdown",
   "metadata": {},
   "source": [
    "**Answer #4:**"
   ]
  },
  {
   "cell_type": "code",
   "execution_count": null,
   "metadata": {},
   "outputs": [],
   "source": [
    "def do_something(x):\n",
    "    \"\"\"\n",
    "    Does something!\n",
    "    \"\"\"\n",
    "    x = x + 5\n",
    "    return x\n",
    "    \n",
    "    \n",
    "x = 1\n",
    "do_something(x)\n",
    "print(x)"
   ]
  },
  {
   "cell_type": "markdown",
   "metadata": {},
   "source": [
    "**Answer #5:**"
   ]
  },
  {
   "cell_type": "code",
   "execution_count": null,
   "metadata": {},
   "outputs": [],
   "source": [
    "def do_something(x):\n",
    "    \"\"\"\n",
    "    Does something!\n",
    "    \"\"\"\n",
    "    x = x + 5\n",
    "    return x\n",
    "    \n",
    "    \n",
    "x = 1\n",
    "x = do_something(x)\n",
    "print(x)"
   ]
  },
  {
   "cell_type": "markdown",
   "metadata": {},
   "source": [
    "**Answer #6:**"
   ]
  },
  {
   "cell_type": "code",
   "execution_count": null,
   "metadata": {},
   "outputs": [],
   "source": [
    "def do_something(x):\n",
    "    \"\"\"\n",
    "    Does something!\n",
    "    \"\"\"\n",
    "    x = x + 5\n",
    "    return x\n",
    "    \n",
    "def yet_another_function(x):\n",
    "    \"\"\"\n",
    "    Another one!\n",
    "    \"\"\"\n",
    "    print(x)\n",
    "    \n",
    "x = 1\n",
    "x = do_something(x)\n",
    "yet_another_function(x)"
   ]
  },
  {
   "cell_type": "markdown",
   "metadata": {},
   "source": [
    "**Answer #7:**"
   ]
  },
  {
   "cell_type": "code",
   "execution_count": null,
   "metadata": {},
   "outputs": [],
   "source": [
    "def do_something(x):\n",
    "    \"\"\"\n",
    "    Does something!\n",
    "    \"\"\"\n",
    "    x = x + 5\n",
    "    return x\n",
    "    \n",
    "def yet_another_function(x):\n",
    "    \"\"\"\n",
    "    Another one!\n",
    "    \"\"\"\n",
    "    x = 10\n",
    "    print(x)\n",
    "    \n",
    "x = 1\n",
    "x = do_something(x)\n",
    "yet_another_function(x)"
   ]
  },
  {
   "cell_type": "markdown",
   "metadata": {},
   "source": [
    "**Answer #8:**"
   ]
  },
  {
   "cell_type": "code",
   "execution_count": null,
   "metadata": {},
   "outputs": [],
   "source": [
    "def do_something(x):\n",
    "    \"\"\"\n",
    "    Does something!\n",
    "    \"\"\"\n",
    "    x = x + 5\n",
    "    return x\n",
    "    \n",
    "def yet_another_function(x):\n",
    "    \"\"\"\n",
    "    Another one!\n",
    "    \"\"\"\n",
    "    x = 10\n",
    "    return x\n",
    "    \n",
    "x = 1\n",
    "yet_another_function(x)\n",
    "x = do_something(x)\n",
    "print(x)"
   ]
  },
  {
   "cell_type": "markdown",
   "metadata": {},
   "source": [
    "**Answer #9:**"
   ]
  },
  {
   "cell_type": "code",
   "execution_count": null,
   "metadata": {},
   "outputs": [],
   "source": [
    "def do_something(x):\n",
    "    \"\"\"\n",
    "    Does something!\n",
    "    \"\"\"\n",
    "    x = x + 5\n",
    "    return x\n",
    "    \n",
    "def yet_another_function(x):\n",
    "    \"\"\"\n",
    "    Another one!\n",
    "    \"\"\"\n",
    "    x = 10\n",
    "    return x\n",
    "    \n",
    "x = 1\n",
    "yet_another_function(x)\n",
    "print(x)\n",
    "x = do_something(x)"
   ]
  },
  {
   "cell_type": "markdown",
   "metadata": {},
   "source": [
    "**Answer #10:**"
   ]
  },
  {
   "cell_type": "code",
   "execution_count": null,
   "metadata": {},
   "outputs": [],
   "source": [
    "def do_something(x):\n",
    "    \"\"\"\n",
    "    Does something!\n",
    "    \"\"\"\n",
    "    return x < 1\n",
    "    \n",
    "def yet_another_function(x):\n",
    "    \"\"\"\n",
    "    Another one!\n",
    "    \"\"\"\n",
    "    print(x)\n",
    "    \n",
    "x = 1\n",
    "if do_something(x):\n",
    "    yet_another_function(x + 10)\n",
    "else:\n",
    "    print(x)"
   ]
  },
  {
   "cell_type": "markdown",
   "metadata": {},
   "source": [
    "**Answer #11:**"
   ]
  },
  {
   "cell_type": "code",
   "execution_count": null,
   "metadata": {},
   "outputs": [],
   "source": [
    "def do_something(x):\n",
    "    \"\"\"\n",
    "    Does something!\n",
    "    \"\"\"\n",
    "    x = x + 5\n",
    "    return x\n",
    "    \n",
    "def yet_another_function(x):\n",
    "    \"\"\"\n",
    "    Another one!\n",
    "    \"\"\"\n",
    "    x = 10\n",
    "    return x\n",
    "    \n",
    "x = yet_another_function(1)\n",
    "while x < 20:\n",
    "    x = do_something(x)\n",
    "print(x)"
   ]
  },
  {
   "cell_type": "markdown",
   "metadata": {},
   "source": [
    "**Answer #12:**"
   ]
  },
  {
   "cell_type": "code",
   "execution_count": null,
   "metadata": {},
   "outputs": [],
   "source": [
    "def do_something(x):\n",
    "    \"\"\"\n",
    "    Does something!\n",
    "    \"\"\"\n",
    "    x = x + 2\n",
    "    return x\n",
    "    \n",
    "def yet_another_function(x):\n",
    "    \"\"\"\n",
    "    Another one!\n",
    "    \"\"\"\n",
    "    return x * 2\n",
    "    \n",
    "x = yet_another_function(3)\n",
    "while x < 20:\n",
    "    x = do_something(x)\n",
    "    if x == 13:\n",
    "        break\n",
    "print(x)"
   ]
  }
 ],
 "metadata": {
  "kernelspec": {
   "display_name": "Python 3",
   "language": "python",
   "name": "python3"
  },
  "language_info": {
   "codemirror_mode": {
    "name": "ipython",
    "version": 3
   },
   "file_extension": ".py",
   "mimetype": "text/x-python",
   "name": "python",
   "nbconvert_exporter": "python",
   "pygments_lexer": "ipython3",
   "version": "3.6.1"
  }
 },
 "nbformat": 4,
 "nbformat_minor": 2
}
